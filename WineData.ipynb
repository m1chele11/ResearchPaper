{
 "cells": [
  {
   "cell_type": "code",
   "execution_count": 1,
   "id": "5936a4b2-6061-4224-bd7e-0e7c97990f36",
   "metadata": {},
   "outputs": [],
   "source": [
    "import pandas as pd\n",
    "import matplotlib.pyplot as plt\n",
    "import seaborn as sns"
   ]
  },
  {
   "cell_type": "markdown",
   "id": "7cb6c090-12a0-4a0a-9409-d219a807e14f",
   "metadata": {},
   "source": [
    "This data set breaks down personality type metrics by age, gender, interest, and education."
   ]
  },
  {
   "cell_type": "code",
   "execution_count": 17,
   "id": "80e8c555-3b9d-46a9-8ee8-dc679cdfafcc",
   "metadata": {},
   "outputs": [
    {
     "name": "stdout",
     "output_type": "stream",
     "text": [
      "There are 1599 rows\n",
      "There are 12 columns\n"
     ]
    }
   ],
   "source": [
    "df=pd.read_csv('winequality-red.csv')\n",
    "rows, columns=df.shape\n",
    "print(f\"There are {rows} rows\")\n",
    "print(f\"There are {columns} columns\")"
   ]
  },
  {
   "cell_type": "markdown",
   "id": "7fef9b5b-1824-4e48-86ff-a19e3d168649",
   "metadata": {},
   "source": [
    "The rows are different wines."
   ]
  },
  {
   "cell_type": "code",
   "execution_count": 20,
   "id": "f86fa334-b0bf-48f3-a938-0f2caa2721be",
   "metadata": {},
   "outputs": [
    {
     "name": "stdout",
     "output_type": "stream",
     "text": [
      "Index(['fixed acidity', 'volatile acidity', 'citric acid', 'residual sugar',\n",
      "       'chlorides', 'free sulfur dioxide', 'total sulfur dioxide', 'density',\n",
      "       'pH', 'sulphates', 'alcohol', 'quality'],\n",
      "      dtype='object')\n"
     ]
    }
   ],
   "source": [
    "print(df.columns)"
   ]
  },
  {
   "cell_type": "code",
   "execution_count": 28,
   "id": "d45cf77a-5b61-4c87-bf33-94d4eed427ff",
   "metadata": {},
   "outputs": [
    {
     "name": "stdout",
     "output_type": "stream",
     "text": [
      "                   index        0       Type\n",
      "0          fixed acidity  float64  Numerical\n",
      "1       volatile acidity  float64  Numerical\n",
      "2            citric acid  float64  Numerical\n",
      "3         residual sugar  float64  Numerical\n",
      "4              chlorides  float64  Numerical\n",
      "5    free sulfur dioxide  float64  Numerical\n",
      "6   total sulfur dioxide  float64  Numerical\n",
      "7                density  float64  Numerical\n",
      "8                     pH  float64  Numerical\n",
      "9              sulphates  float64  Numerical\n",
      "10               alcohol  float64  Numerical\n",
      "11               quality    int64  Numerical\n"
     ]
    }
   ],
   "source": [
    "df2 = df.dtypes.reset_index()\n",
    "df2[\"Type\"]=[\"Numerical\",\"Numerical\",\"Numerical\",\"Numerical\",\"Numerical\",\"Numerical\",\"Numerical\",\"Numerical\",\"Numerical\",\"Numerical\",\"Numerical\",\"Numerical\"]\n",
    "print(df2)"
   ]
  },
  {
   "cell_type": "code",
   "execution_count": 32,
   "id": "d6b93158-bc70-40f1-9ef2-fa702bcdadb9",
   "metadata": {},
   "outputs": [
    {
     "name": "stdout",
     "output_type": "stream",
     "text": [
      "                  Column       Mean    Median     Mode  Standard Deviation  \\\n",
      "0          fixed acidity   8.319637   7.90000   7.2000            1.741096   \n",
      "1       volatile acidity   0.527821   0.52000   0.6000            0.179060   \n",
      "2            citric acid   0.270976   0.26000   0.0000            0.194801   \n",
      "3         residual sugar   2.538806   2.20000   2.0000            1.409928   \n",
      "4              chlorides   0.087467   0.07900   0.0800            0.047065   \n",
      "5    free sulfur dioxide  15.874922  14.00000   6.0000           10.460157   \n",
      "6   total sulfur dioxide  46.467792  38.00000  28.0000           32.895324   \n",
      "7                density   0.996747   0.99675   0.9972            0.001887   \n",
      "8                     pH   3.311113   3.31000   3.3000            0.154386   \n",
      "9              sulphates   0.658149   0.62000   0.6000            0.169507   \n",
      "10               alcohol  10.422983  10.20000   9.5000            1.065668   \n",
      "11               quality   5.636023   6.00000   5.0000            0.807569   \n",
      "\n",
      "    25th Percentile  50th Percentile  75th Percentile  \n",
      "0            7.1000          7.90000         9.200000  \n",
      "1            0.3900          0.52000         0.640000  \n",
      "2            0.0900          0.26000         0.420000  \n",
      "3            1.9000          2.20000         2.600000  \n",
      "4            0.0700          0.07900         0.090000  \n",
      "5            7.0000         14.00000        21.000000  \n",
      "6           22.0000         38.00000        62.000000  \n",
      "7            0.9956          0.99675         0.997835  \n",
      "8            3.2100          3.31000         3.400000  \n",
      "9            0.5500          0.62000         0.730000  \n",
      "10           9.5000         10.20000        11.100000  \n",
      "11           5.0000          6.00000         6.000000  \n"
     ]
    }
   ],
   "source": [
    "columns_to_analyze = ['fixed acidity', 'volatile acidity', 'citric acid', 'residual sugar',\n",
    "       'chlorides', 'free sulfur dioxide', 'total sulfur dioxide', 'density',\n",
    "       'pH', 'sulphates', 'alcohol', 'quality']\n",
    "statistics_list = []\n",
    "for column in columns_to_analyze:\n",
    "    mean_value = df[column].mean()\n",
    "    median_value = df[column].median()\n",
    "    mode_value = df[column].mode()[0] \n",
    "    std_dev_value = df[column].std()\n",
    "    quartiles = df[column].quantile([0.25, 0.5, 0.75])\n",
    "    statistics_list.append({\n",
    "        'Column': column,\n",
    "        'Mean': mean_value,\n",
    "        'Median': median_value,\n",
    "        'Mode': mode_value,\n",
    "        'Standard Deviation': std_dev_value,\n",
    "        '25th Percentile': quartiles[0.25],\n",
    "        '50th Percentile': quartiles[0.5],\n",
    "        '75th Percentile': quartiles[0.75]\n",
    "    })\n",
    "statistics_df = pd.DataFrame(statistics_list)\n",
    "print(statistics_df)"
   ]
  },
  {
   "cell_type": "code",
   "execution_count": null,
   "id": "c405b445-b863-4d27-ba85-922916892746",
   "metadata": {},
   "outputs": [],
   "source": [
    "There are no cate"
   ]
  },
  {
   "cell_type": "code",
   "execution_count": null,
   "id": "896a8a99-f371-4f01-9e9b-b893f2bccbdf",
   "metadata": {},
   "outputs": [],
   "source": [
    "missing_counts = df.isnull().sum() \n",
    "total_counts = df.shape[0]          \n",
    "missing_percentage = (missing_counts / total_counts) * 100 \n",
    "\n",
    "missing_summary_df = pd.DataFrame({\n",
    "    'Missing Count': missing_counts,\n",
    "    'Missing Percentage': missing_percentage\n",
    "})\n",
    "missing_summary_df['Summary'] = missing_summary_df.apply(\n",
    "    lambda x: f'nulls: {x[\"Missing Count\"]}/{total_counts} ({x[\"Missing Percentage\"]:.1f}%)', axis=1)\n",
    "print(missing_summary_df)\n",
    "plt.figure(figsize=(10, 6))\n",
    "sns.barplot(x=missing_summary_df.index, y='Missing Count', data=missing_summary_df, hue=missing_summary_df.index, legend=False, palette='viridis')\n",
    "plt.title('Missing Values Count in DataFrame')\n",
    "plt.xlabel('Columns')\n",
    "plt.ylabel('Missing Count')\n",
    "plt.xticks(rotation=45)\n",
    "plt.show()"
   ]
  }
 ],
 "metadata": {
  "kernelspec": {
   "display_name": "Python 3 (ipykernel)",
   "language": "python",
   "name": "python3"
  },
  "language_info": {
   "codemirror_mode": {
    "name": "ipython",
    "version": 3
   },
   "file_extension": ".py",
   "mimetype": "text/x-python",
   "name": "python",
   "nbconvert_exporter": "python",
   "pygments_lexer": "ipython3",
   "version": "3.12.4"
  }
 },
 "nbformat": 4,
 "nbformat_minor": 5
}
