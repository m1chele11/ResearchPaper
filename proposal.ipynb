{
 "cells": [
  {
   "cell_type": "markdown",
   "id": "2b8b0108-9439-4a23-ad2a-a9a5de2924a1",
   "metadata": {},
   "source": [
    "# Datasets:"
   ]
  },
  {
   "cell_type": "code",
   "execution_count": null,
   "id": "5d2be3dd-84cf-4a62-bc1d-2aaeb8ab391c",
   "metadata": {},
   "outputs": [],
   "source": [
    "links:\n",
    "https://www.kaggle.com/datasets/prasad22/healthcare-dataset/data\n"
   ]
  },
  {
   "cell_type": "markdown",
   "id": "08b2a1d6-da31-408a-841d-c0f231a03716",
   "metadata": {},
   "source": [
    "# Potential Questions:"
   ]
  },
  {
   "cell_type": "code",
   "execution_count": null,
   "id": "49c0a202-490b-4274-955f-7fea0c11fd79",
   "metadata": {},
   "outputs": [],
   "source": []
  }
 ],
 "metadata": {
  "kernelspec": {
   "display_name": "Python 3 (ipykernel)",
   "language": "python",
   "name": "python3"
  },
  "language_info": {
   "codemirror_mode": {
    "name": "ipython",
    "version": 3
   },
   "file_extension": ".py",
   "mimetype": "text/x-python",
   "name": "python",
   "nbconvert_exporter": "python",
   "pygments_lexer": "ipython3",
   "version": "3.12.4"
  }
 },
 "nbformat": 4,
 "nbformat_minor": 5
}
